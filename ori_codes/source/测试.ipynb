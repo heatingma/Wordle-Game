{
 "cells": [
  {
   "cell_type": "code",
   "execution_count": 1,
   "id": "982c03a3",
   "metadata": {},
   "outputs": [],
   "source": [
    "import numpy as np\n",
    "from function import get_colors,Ternary_to_Decimal,Decimal_to_Ternary\n",
    "from tqdm import tqdm\n",
    "\n",
    "words = np.load(\"data_sourse/npy/words.npy\",allow_pickle=True)\n",
    "words_v2 = np.load(\"data_sourse/npy/words_for_version2.npy\",allow_pickle=True)\n",
    "wordle_words = np.load(\"data_sourse/npy/wordle_words.npy\",allow_pickle=True)\n",
    "\n",
    "a = np.load(\"data_sourse/npy/first_cal_entropy-old.npy\",allow_pickle=True)\n",
    "b = np.load(\"data_sourse/npy/first_cal_entropy-new.npy\",allow_pickle=True)\n"
   ]
  },
  {
   "cell_type": "code",
   "execution_count": 2,
   "id": "084b05e5",
   "metadata": {},
   "outputs": [
    {
     "data": {
      "text/plain": [
       "array([['abase', '-21.4301656', '4.035330652', '4.035331005', 'True'],\n",
       "       ['abate', '-16.6544008', '4.252027765', '4.252037459', 'True'],\n",
       "       ['abbey', '-11.5860314', '3.447259201', '3.447584480', 'True'],\n",
       "       ...,\n",
       "       ['zebra', '-14.3064911', '3.996753361', '3.996802714', 'True'],\n",
       "       ['zesty', '-18.5704114', '3.709570672', '3.709573240', 'True'],\n",
       "       ['zonal', '-15.5587056', '4.156567214', '4.156587932', 'True']],\n",
       "      dtype='<U11')"
      ]
     },
     "execution_count": 2,
     "metadata": {},
     "output_type": "execute_result"
    }
   ],
   "source": [
    "a"
   ]
  },
  {
   "cell_type": "code",
   "execution_count": 3,
   "id": "eec95844",
   "metadata": {},
   "outputs": [
    {
     "data": {
      "text/plain": [
       "array([['aback', '-18.2073114', '3.155813158', '0', 'True'],\n",
       "       ['abase', '-21.4301729', '4.287880734', '0', 'True'],\n",
       "       ['abate', '-16.6544056', '4.554759367', '0', 'True'],\n",
       "       ...,\n",
       "       ['zebra', '-14.3064968', '4.027418692', '0', 'True'],\n",
       "       ['zesty', '-18.5704187', '3.756139560', '0', 'True'],\n",
       "       ['zonal', '-15.5587088', '4.198428780', '0', 'True']], dtype='<U11')"
      ]
     },
     "execution_count": 3,
     "metadata": {},
     "output_type": "execute_result"
    }
   ],
   "source": [
    "b"
   ]
  },
  {
   "cell_type": "code",
   "execution_count": 2,
   "id": "db086f3c",
   "metadata": {},
   "outputs": [
    {
     "data": {
      "text/plain": [
       "array([['aback', '-20.1354521', '-17.4105207', '-18.2073114'],\n",
       "       ['abase', '-23.4084706', '-20.6259452', '-21.4301729'],\n",
       "       ['abate', '-16.6850941', '-16.6243565', '-16.6544056'],\n",
       "       ...,\n",
       "       ['zebra', '-14.6965169', '-13.9997901', '-14.3064968'],\n",
       "       ['zesty', '-20.4084706', '-17.7877579', '-18.5704187'],\n",
       "       ['zonal', '-15.0175851', '-16.4346599', '-15.5587088']],\n",
       "      dtype='<U11')"
      ]
     },
     "execution_count": 2,
     "metadata": {},
     "output_type": "execute_result"
    }
   ],
   "source": [
    "words"
   ]
  },
  {
   "cell_type": "code",
   "execution_count": 3,
   "id": "e1009960",
   "metadata": {},
   "outputs": [
    {
     "data": {
      "text/plain": [
       "array([['aback', '-18.2073114', '0', '0', 'True'],\n",
       "       ['abase', '-21.4301729', '0', '0', 'True'],\n",
       "       ['abate', '-16.6544056', '0', '0', 'True'],\n",
       "       ...,\n",
       "       ['zebra', '-14.3064968', '0', '0', 'True'],\n",
       "       ['zesty', '-18.5704187', '0', '0', 'True'],\n",
       "       ['zonal', '-15.5587088', '0', '0', 'True']], dtype='<U11')"
      ]
     },
     "execution_count": 3,
     "metadata": {},
     "output_type": "execute_result"
    }
   ],
   "source": [
    "words_v2"
   ]
  },
  {
   "cell_type": "code",
   "execution_count": 4,
   "id": "6f7745a3",
   "metadata": {},
   "outputs": [
    {
     "data": {
      "text/plain": [
       "array([['aback'],\n",
       "       ['abase'],\n",
       "       ['abate'],\n",
       "       ...,\n",
       "       ['zebra'],\n",
       "       ['zesty'],\n",
       "       ['zonal']], dtype=object)"
      ]
     },
     "execution_count": 4,
     "metadata": {},
     "output_type": "execute_result"
    }
   ],
   "source": [
    "wordle_words"
   ]
  },
  {
   "cell_type": "code",
   "execution_count": 6,
   "id": "1816f71e",
   "metadata": {},
   "outputs": [],
   "source": [
    "\n",
    "\n"
   ]
  },
  {
   "cell_type": "code",
   "execution_count": 7,
   "id": "cbbd08fc",
   "metadata": {},
   "outputs": [
    {
     "data": {
      "text/plain": [
       "array([['aback', '-18.2073114', '3.155813158', '0', 'True'],\n",
       "       ['abase', '-21.4301729', '4.287880734', '0', 'True'],\n",
       "       ['abate', '-16.6544056', '4.554759367', '0', 'True'],\n",
       "       ...,\n",
       "       ['zebra', '-14.3064968', '4.027418692', '0', 'True'],\n",
       "       ['zesty', '-18.5704187', '3.756139560', '0', 'True'],\n",
       "       ['zonal', '-15.5587088', '4.198428780', '0', 'True']], dtype='<U11')"
      ]
     },
     "execution_count": 7,
     "metadata": {},
     "output_type": "execute_result"
    }
   ],
   "source": [
    "a"
   ]
  },
  {
   "cell_type": "code",
   "execution_count": 4,
   "id": "7ec91f19",
   "metadata": {},
   "outputs": [
    {
     "data": {
      "text/plain": [
       "2310"
      ]
     },
     "execution_count": 4,
     "metadata": {},
     "output_type": "execute_result"
    }
   ],
   "source": [
    "len(words)"
   ]
  },
  {
   "cell_type": "code",
   "execution_count": 2,
   "id": "db992781",
   "metadata": {},
   "outputs": [
    {
     "data": {
      "text/plain": [
       "190"
      ]
     },
     "execution_count": 2,
     "metadata": {},
     "output_type": "execute_result"
    }
   ],
   "source": [
    "Ternary_to_Decimal(get_colors(words[0][0],words[2][0]))"
   ]
  },
  {
   "cell_type": "code",
   "execution_count": 3,
   "id": "466ec661",
   "metadata": {},
   "outputs": [
    {
     "data": {
      "text/plain": [
       "'abase'"
      ]
     },
     "execution_count": 3,
     "metadata": {},
     "output_type": "execute_result"
    }
   ],
   "source": [
    "words[0][0]"
   ]
  },
  {
   "cell_type": "code",
   "execution_count": 4,
   "id": "025040ae",
   "metadata": {},
   "outputs": [
    {
     "data": {
      "text/plain": [
       "'abbey'"
      ]
     },
     "execution_count": 4,
     "metadata": {},
     "output_type": "execute_result"
    }
   ],
   "source": [
    "words[2][0]"
   ]
  },
  {
   "cell_type": "code",
   "execution_count": null,
   "id": "32532be6",
   "metadata": {},
   "outputs": [],
   "source": [
    "all_colors = np.zeros((length,length)).astype('i4')\n",
    "for i in tqdm(range(length)):\n",
    "    for j in np.arange(length):\n",
    "        all_colors[i][j] = Ternary_to_Decimal(get_colors(words[i][0],words[j][0]))\n",
    "np.save('data_sourse/npy/all_colors.npy',all_colors)"
   ]
  },
  {
   "cell_type": "code",
   "execution_count": 5,
   "id": "8971da41",
   "metadata": {},
   "outputs": [
    {
     "data": {
      "text/plain": [
       "array([2, 1, 0, 0, 1])"
      ]
     },
     "execution_count": 5,
     "metadata": {},
     "output_type": "execute_result"
    }
   ],
   "source": [
    "Decimal_to_Ternary(190)"
   ]
  },
  {
   "cell_type": "code",
   "execution_count": 6,
   "id": "27d5e525",
   "metadata": {},
   "outputs": [
    {
     "data": {
      "text/plain": [
       "array([2, 1, 0, 0, 1])"
      ]
     },
     "execution_count": 6,
     "metadata": {},
     "output_type": "execute_result"
    }
   ],
   "source": [
    "get_colors(\"abase\",\"abbey\")"
   ]
  },
  {
   "cell_type": "code",
   "execution_count": 14,
   "id": "6e40d537",
   "metadata": {},
   "outputs": [],
   "source": [
    "import pdb\n",
    "import numpy as np\n",
    "def get_colors(word,answer):\n",
    "    colors = np.zeros(5).astype('i4')\n",
    "    used = np.zeros(5).astype('i4')\n",
    "    for i in np.arange(5):\n",
    "        if(word[i] == answer[i]):\n",
    "            colors[i] = 2\n",
    "            used[i] = 1\n",
    "    for i in np.arange(5):\n",
    "        if(colors[i] == 2):\n",
    "            continue\n",
    "        letter = word[i]\n",
    "        for j in np.arange(5):\n",
    "            if(letter == answer[j] and used[j] == 0):\n",
    "                colors[i] = 1\n",
    "                used[j] = 1\n",
    "                break\n",
    "    return colors"
   ]
  },
  {
   "cell_type": "code",
   "execution_count": 15,
   "id": "2a3924ce",
   "metadata": {},
   "outputs": [
    {
     "data": {
      "text/plain": [
       "array([1, 1, 1, 0, 0])"
      ]
     },
     "execution_count": 15,
     "metadata": {},
     "output_type": "execute_result"
    }
   ],
   "source": [
    "get_colors(\"abase\",\"banal\")"
   ]
  },
  {
   "cell_type": "code",
   "execution_count": 10,
   "id": "77a2acc8",
   "metadata": {},
   "outputs": [
    {
     "data": {
      "text/plain": [
       "'abase'"
      ]
     },
     "execution_count": 10,
     "metadata": {},
     "output_type": "execute_result"
    }
   ],
   "source": [
    "words[1][0]"
   ]
  },
  {
   "cell_type": "code",
   "execution_count": 16,
   "id": "ec19a43a",
   "metadata": {},
   "outputs": [
    {
     "data": {
      "text/plain": [
       "'beach'"
      ]
     },
     "execution_count": 16,
     "metadata": {},
     "output_type": "execute_result"
    }
   ],
   "source": [
    "words[165][0]"
   ]
  },
  {
   "cell_type": "code",
   "execution_count": null,
   "id": "d0bf0af7",
   "metadata": {},
   "outputs": [],
   "source": []
  }
 ],
 "metadata": {
  "kernelspec": {
   "display_name": "Python 3 (ipykernel)",
   "language": "python",
   "name": "python3"
  },
  "language_info": {
   "codemirror_mode": {
    "name": "ipython",
    "version": 3
   },
   "file_extension": ".py",
   "mimetype": "text/x-python",
   "name": "python",
   "nbconvert_exporter": "python",
   "pygments_lexer": "ipython3",
   "version": "3.9.13"
  }
 },
 "nbformat": 4,
 "nbformat_minor": 5
}
